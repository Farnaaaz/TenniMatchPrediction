{
 "cells": [
  {
   "cell_type": "code",
   "execution_count": 31,
   "metadata": {},
   "outputs": [],
   "source": [
    "import numpy as np\n",
    "import os\n",
    "import pandas as pd\n",
    "from io import StringIO\n",
    "import io\n",
    "import string\n",
    "import random\n",
    "import json\n",
    "import pickle\n",
    "import matplotlib.pyplot as plt\n",
    "%matplotlib inline"
   ]
  },
  {
   "cell_type": "code",
   "execution_count": 69,
   "metadata": {},
   "outputs": [
    {
     "name": "stdout",
     "output_type": "stream",
     "text": [
      "Unnamed: 0           0\n",
      "Location             0\n",
      "Date                 0\n",
      "Round                0\n",
      "Winner               0\n",
      "Loser                0\n",
      "WRank               60\n",
      "LRank              206\n",
      "W_hand               0\n",
      "W_ht               957\n",
      "W_nationality      858\n",
      "W_age              859\n",
      "L_hand               0\n",
      "L_ht              1102\n",
      "L_nationality      791\n",
      "L_age              796\n",
      "L_wt             11818\n",
      "W_wt             11801\n",
      "dtype: int64\n"
     ]
    }
   ],
   "source": [
    "df1 = pd.read_csv(\"modeling data/1_players_info_added_Clean_data.csv\")\n",
    "df2 = pd.read_csv(\"modeling data/2_drop_wt.csv\")\n",
    "df3 = pd.read_csv(\"modeling data/3_fill_rank.csv\")\n",
    "df4 = pd.read_csv(\"modeling data/4_fill_nationality.csv\")\n",
    "df5 = pd.read_csv(\"modeling data/5_fill_ht.csv\")\n",
    "df6 = pd.read_csv(\"modeling data/6_fill_age.csv\")\n",
    "# df7 = pd.read_csv(\"modeling data/7_drop_outliers.csv\")\n",
    "# df8 = pd.read_csv(\"modeling data/8_normalized_values.csv\")\n",
    "# df9 = pd.read_csv(\"modeling data/9_encoded_values.csv\")\n",
    "\n",
    "# print(len(df0))\n",
    "# print(len(df1))\n",
    "# print(len(df2))\n",
    "# print(len(df3))\n",
    "# print(len(df4))\n",
    "# print(len(df5))\n",
    "# print(len(df6))\n",
    "\n",
    "\n",
    "# Check number of null values in train and test data\n",
    "\n",
    "df1_nulls = df1.isnull().sum()\n",
    "df2_nulls = df2.isnull().sum()\n",
    "df3_nulls = df3.isnull().sum()\n",
    "df4_nulls = df4.isnull().sum()\n",
    "df5_nulls = df5.isnull().sum()\n",
    "df6_nulls = df6.isnull().sum()\n",
    "\n",
    "\n",
    "print(df1_nulls)"
   ]
  },
  {
   "cell_type": "code",
   "execution_count": 87,
   "metadata": {},
   "outputs": [
    {
     "data": {
      "text/plain": [
       "17917"
      ]
     },
     "execution_count": 87,
     "metadata": {},
     "output_type": "execute_result"
    }
   ],
   "source": [
    "df1_dropped_wt = df1.copy()\n",
    "\n",
    "df1_dropped_wt.drop(columns=[\"Unnamed: 0\",'L_wt', 'W_wt'], inplace=True)\n",
    "df1_no_nulls = df1_dropped_wt.dropna()\n",
    "\n",
    "len(df1_no_nulls)\n",
    "# df1_no_nulls\n"
   ]
  },
  {
   "cell_type": "code",
   "execution_count": 94,
   "metadata": {},
   "outputs": [],
   "source": [
    "df_winner = df1_no_nulls.copy()\n",
    "df_loser = df1_no_nulls.copy()\n",
    "\n",
    "df_winner['win'] = 1\n",
    "df_loser['win'] = 0\n",
    "\n",
    "# Renaming columns to 'player' and 'opponent' for winners\n",
    "df_winner.rename(columns={\n",
    "    'Winner': 'player',\n",
    "    'Loser': 'opponent',\n",
    "    'WRank': 'player_rank',\n",
    "    'LRank': 'opponent_rank',\n",
    "    'W_hand': 'player_hand',\n",
    "    'L_hand': 'opponent_hand',\n",
    "    'W_ht': 'player_ht', \n",
    "    'W_nationality':'player_nationality', \n",
    "    'W_age':'player_age', \n",
    "    'L_ht':'opponent_ht',\n",
    "    'L_nationality':'opponent_nationality', \n",
    "    'L_age':'opponent_age'\n",
    "}, inplace=True)\n",
    "\n",
    "# Renaming columns to 'player' and 'opponent' for losers\n",
    "df_loser.rename(columns={\n",
    "    'Winner': 'opponent',\n",
    "    'Loser': 'player',\n",
    "    'WRank': 'opponent_rank',\n",
    "    'LRank': 'player_rank',\n",
    "    'W_hand': 'opponent_hand',\n",
    "    'L_hand': 'player_hand',\n",
    "    'W_ht':'opponent_ht', \n",
    "    'W_nationality':'opponent_nationality', \n",
    "    'W_age':'opponent_age', \n",
    "    'L_ht':'player_ht',\n",
    "    'L_nationality':'player_nationality',\n",
    "    'L_age':'player_age'\n",
    "}, inplace=True)"
   ]
  },
  {
   "cell_type": "code",
   "execution_count": 95,
   "metadata": {},
   "outputs": [],
   "source": [
    "df_transformed = pd.concat([df_winner, df_loser], ignore_index=True)\n",
    "# df_transformed = df_transformed.sample(frac=1).reset_index(drop=True)\n",
    "\n",
    "\n",
    "df_transformed.to_csv('modeling data/df1_workable.csv', index=False)"
   ]
  },
  {
   "cell_type": "code",
   "execution_count": 144,
   "metadata": {},
   "outputs": [
    {
     "name": "stdout",
     "output_type": "stream",
     "text": [
      "31\n"
     ]
    }
   ],
   "source": [
    "print(len(df_transformed[\"Location\"].unique()))\n",
    "df_transformed[\"Location\"].unique()\n",
    "df_transformed.to_csv('modeling data/df1_workable.csv', index=False)"
   ]
  },
  {
   "cell_type": "code",
   "execution_count": 96,
   "metadata": {},
   "outputs": [
    {
     "ename": "ModuleNotFoundError",
     "evalue": "No module named 'sklearn'",
     "output_type": "error",
     "traceback": [
      "\u001b[1;31m---------------------------------------------------------------------------\u001b[0m",
      "\u001b[1;31mModuleNotFoundError\u001b[0m                       Traceback (most recent call last)",
      "Input \u001b[1;32mIn [96]\u001b[0m, in \u001b[0;36m<cell line: 1>\u001b[1;34m()\u001b[0m\n\u001b[1;32m----> 1\u001b[0m \u001b[38;5;28;01mfrom\u001b[39;00m \u001b[38;5;21;01msklearn\u001b[39;00m\u001b[38;5;21;01m.\u001b[39;00m\u001b[38;5;21;01mmodel_selection\u001b[39;00m \u001b[38;5;28;01mimport\u001b[39;00m train_test_split\n\u001b[0;32m      3\u001b[0m \u001b[38;5;66;03m# Assume 'df_transformed' is your DataFrame and 'win' is the target variable.\u001b[39;00m\n\u001b[0;32m      4\u001b[0m \n\u001b[0;32m      5\u001b[0m \u001b[38;5;66;03m# Define your features (X) and the target variable (y)\u001b[39;00m\n\u001b[0;32m      6\u001b[0m X \u001b[38;5;241m=\u001b[39m df_transformed\u001b[38;5;241m.\u001b[39mdrop(columns\u001b[38;5;241m=\u001b[39m[\u001b[38;5;124m'\u001b[39m\u001b[38;5;124mplayer\u001b[39m\u001b[38;5;124m'\u001b[39m, \u001b[38;5;124m'\u001b[39m\u001b[38;5;124mopponent\u001b[39m\u001b[38;5;124m'\u001b[39m, \u001b[38;5;124m'\u001b[39m\u001b[38;5;124mwin\u001b[39m\u001b[38;5;124m'\u001b[39m])  \u001b[38;5;66;03m# Exclude non-numeric or target columns\u001b[39;00m\n",
      "\u001b[1;31mModuleNotFoundError\u001b[0m: No module named 'sklearn'"
     ]
    }
   ],
   "source": [
    "# from sklearn.model_selection import train_test_split\n",
    "\n",
    "# # Assume 'df_transformed' is your DataFrame and 'win' is the target variable.\n",
    "\n",
    "# # Define your features (X) and the target variable (y)\n",
    "# X = df_transformed.drop(columns=['player', 'opponent', 'win'])  # Exclude non-numeric or target columns\n",
    "# y = df_transformed['win']\n",
    "\n",
    "# # Split the data into training and testing sets (80% train, 20% test)\n",
    "# X_train, X_test, y_train, y_test = train_test_split(X, y, test_size=0.2, random_state=42)\n",
    "\n",
    "# # X_train and y_train are now your training features and target\n",
    "# # X_test and y_test are your testing features and target"
   ]
  }
 ],
 "metadata": {
  "kernelspec": {
   "display_name": "Python 3",
   "language": "python",
   "name": "python3"
  },
  "language_info": {
   "codemirror_mode": {
    "name": "ipython",
    "version": 3
   },
   "file_extension": ".py",
   "mimetype": "text/x-python",
   "name": "python",
   "nbconvert_exporter": "python",
   "pygments_lexer": "ipython3",
   "version": "3.10.1"
  }
 },
 "nbformat": 4,
 "nbformat_minor": 2
}
