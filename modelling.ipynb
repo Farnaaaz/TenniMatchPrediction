{
 "cells": [
  {
   "cell_type": "code",
   "execution_count": 2,
   "metadata": {},
   "outputs": [],
   "source": [
    "import numpy as np\n",
    "import os\n",
    "import pandas as pd\n",
    "from io import StringIO\n",
    "import io\n",
    "import string\n",
    "import random\n",
    "import json\n",
    "import pickle\n",
    "import matplotlib.pyplot as plt\n",
    "%matplotlib inline"
   ]
  },
  {
   "cell_type": "code",
   "execution_count": 24,
   "metadata": {},
   "outputs": [
    {
     "name": "stdout",
     "output_type": "stream",
     "text": [
      "Unnamed: 0           0\n",
      "Location             0\n",
      "Date                 0\n",
      "Round                0\n",
      "Winner               0\n",
      "Loser                0\n",
      "WRank               60\n",
      "LRank              206\n",
      "W_hand               0\n",
      "W_ht              8012\n",
      "W_nationality     7914\n",
      "W_age             7915\n",
      "L_hand               0\n",
      "L_ht              8275\n",
      "L_nationality     7978\n",
      "L_age             7983\n",
      "L_wt             12433\n",
      "W_wt             12250\n",
      "dtype: int64\n"
     ]
    }
   ],
   "source": [
    "df0 = pd.read_csv(\"modeling data/0_Clean_data.csv\")\n",
    "df00 = pd.read_csv(\"modeling data/00_Clean_data.csv\")\n",
    "\n",
    "df1 = pd.read_csv(\"modeling data/1_players_info_added_Clean_data.csv\")\n",
    "df2 = pd.read_csv(\"modeling data/2_drop_wt.csv\")\n",
    "df3 = pd.read_csv(\"modeling data/3_fill_rank.csv\")\n",
    "df4 = pd.read_csv(\"modeling data/4_fill_nationality.csv\")\n",
    "df5 = pd.read_csv(\"modeling data/5_fill_ht.csv\")\n",
    "df6 = pd.read_csv(\"modeling data/6_fill_age.csv\")\n",
    "# df7 = pd.read_csv(\"modeling data/7_drop_outliers.csv\")\n",
    "# df8 = pd.read_csv(\"modeling data/8_normalized_values.csv\")\n",
    "# df9 = pd.read_csv(\"modeling data/9_encoded_values.csv\")\n",
    "\n",
    "# print(len(df0))\n",
    "# print(len(df1))\n",
    "# print(len(df2))\n",
    "# print(len(df3))\n",
    "# print(len(df4))\n",
    "# print(len(df5))\n",
    "# print(len(df6))\n",
    "\n",
    "\n",
    "# Check number of null values in train and test data\n",
    "df0_nulls = df0.isnull().sum()\n",
    "df00_nulls = df00.isnull().sum()\n",
    "df1_nulls = df1.isnull().sum()\n",
    "df2_nulls = df2.isnull().sum()\n",
    "df3_nulls = df3.isnull().sum()\n",
    "df4_nulls = df4.isnull().sum()\n",
    "df5_nulls = df5.isnull().sum()\n",
    "df6_nulls = df6.isnull().sum()\n",
    "\n",
    "\n",
    "print(df0_nulls)\n",
    "\n"
   ]
  },
  {
   "cell_type": "code",
   "execution_count": 25,
   "metadata": {},
   "outputs": [
    {
     "name": "stdout",
     "output_type": "stream",
     "text": [
      "Unnamed: 0           0\n",
      "Location             0\n",
      "Date                 0\n",
      "Round                0\n",
      "Winner               0\n",
      "Loser                0\n",
      "WRank               60\n",
      "LRank              206\n",
      "W_hand               0\n",
      "W_ht               957\n",
      "W_nationality      858\n",
      "W_age              859\n",
      "L_hand               0\n",
      "L_ht              1102\n",
      "L_nationality      791\n",
      "L_age              796\n",
      "L_wt             11818\n",
      "W_wt             11801\n",
      "dtype: int64\n"
     ]
    }
   ],
   "source": [
    "print(df1_nulls)\n"
   ]
  },
  {
   "cell_type": "code",
   "execution_count": 26,
   "metadata": {},
   "outputs": [
    {
     "name": "stdout",
     "output_type": "stream",
     "text": [
      "Unnamed: 0          0\n",
      "Location            0\n",
      "Date                0\n",
      "Round               0\n",
      "Winner              0\n",
      "Loser               0\n",
      "WRank              60\n",
      "LRank             206\n",
      "W_hand              0\n",
      "W_ht              957\n",
      "W_nationality     858\n",
      "W_age             859\n",
      "L_hand              0\n",
      "L_ht             1102\n",
      "L_nationality     791\n",
      "L_age             796\n",
      "dtype: int64\n"
     ]
    }
   ],
   "source": [
    "print(df2_nulls)\n"
   ]
  },
  {
   "cell_type": "code",
   "execution_count": 27,
   "metadata": {},
   "outputs": [
    {
     "name": "stdout",
     "output_type": "stream",
     "text": [
      "Unnamed: 0          0\n",
      "Location            0\n",
      "Date                0\n",
      "Round               0\n",
      "Winner              0\n",
      "Loser               0\n",
      "WRank               0\n",
      "LRank               0\n",
      "W_hand              0\n",
      "W_ht              957\n",
      "W_nationality     858\n",
      "W_age             859\n",
      "L_hand              0\n",
      "L_ht             1102\n",
      "L_nationality     791\n",
      "L_age             796\n",
      "dtype: int64\n"
     ]
    }
   ],
   "source": [
    "print(df3_nulls)\n"
   ]
  },
  {
   "cell_type": "code",
   "execution_count": 28,
   "metadata": {},
   "outputs": [
    {
     "name": "stdout",
     "output_type": "stream",
     "text": [
      "Unnamed: 0          0\n",
      "Location            0\n",
      "Date                0\n",
      "Round               0\n",
      "Winner              0\n",
      "Loser               0\n",
      "WRank               0\n",
      "LRank               0\n",
      "W_hand              0\n",
      "W_ht              957\n",
      "W_nationality       0\n",
      "W_age             859\n",
      "L_hand              0\n",
      "L_ht             1102\n",
      "L_nationality       0\n",
      "L_age             796\n",
      "dtype: int64\n"
     ]
    }
   ],
   "source": [
    "print(df4_nulls)\n"
   ]
  },
  {
   "cell_type": "code",
   "execution_count": 29,
   "metadata": {},
   "outputs": [
    {
     "name": "stdout",
     "output_type": "stream",
     "text": [
      "Unnamed: 0         0\n",
      "Location           0\n",
      "Date               0\n",
      "Round              0\n",
      "Winner             0\n",
      "Loser              0\n",
      "WRank              0\n",
      "LRank              0\n",
      "W_hand             0\n",
      "W_ht               0\n",
      "W_nationality      0\n",
      "W_age            859\n",
      "L_hand             0\n",
      "L_ht               0\n",
      "L_nationality      0\n",
      "L_age            796\n",
      "dtype: int64\n"
     ]
    }
   ],
   "source": [
    "print(df5_nulls)\n"
   ]
  },
  {
   "cell_type": "code",
   "execution_count": 30,
   "metadata": {},
   "outputs": [
    {
     "name": "stdout",
     "output_type": "stream",
     "text": [
      "Unnamed: 0       0\n",
      "Location         0\n",
      "Date             0\n",
      "Round            0\n",
      "Winner           0\n",
      "Loser            0\n",
      "WRank            0\n",
      "LRank            0\n",
      "W_hand           0\n",
      "W_ht             0\n",
      "W_nationality    0\n",
      "W_age            0\n",
      "L_hand           0\n",
      "L_ht             0\n",
      "L_nationality    0\n",
      "L_age            0\n",
      "dtype: int64\n"
     ]
    }
   ],
   "source": [
    "print(df6_nulls)"
   ]
  }
 ],
 "metadata": {
  "kernelspec": {
   "display_name": "Python 3",
   "language": "python",
   "name": "python3"
  },
  "language_info": {
   "codemirror_mode": {
    "name": "ipython",
    "version": 3
   },
   "file_extension": ".py",
   "mimetype": "text/x-python",
   "name": "python",
   "nbconvert_exporter": "python",
   "pygments_lexer": "ipython3",
   "version": "3.10.1"
  }
 },
 "nbformat": 4,
 "nbformat_minor": 2
}
